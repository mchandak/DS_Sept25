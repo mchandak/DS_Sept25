{
 "cells": [
  {
   "cell_type": "code",
   "execution_count": null,
   "id": "ca4ece04-1ddb-4aa3-b353-c63c93c5e5c3",
   "metadata": {},
   "outputs": [],
   "source": [
    "import pandas as pd"
   ]
  },
  {
   "cell_type": "code",
   "execution_count": null,
   "id": "b0258e01-c407-4607-9987-30ad539bcc8c",
   "metadata": {},
   "outputs": [],
   "source": [
    "df = pd.read_csv(\"D:\\\\Manoj\\\\1ExcelR\\\\Data\\\\nyc_weather.csv\")\n",
    "df"
   ]
  },
  {
   "cell_type": "code",
   "execution_count": null,
   "id": "f0ab32c1-db9e-4fb3-b1f1-6b911ea164c1",
   "metadata": {},
   "outputs": [],
   "source": [
    "df.info() # printing the entire variable information of datat types"
   ]
  },
  {
   "cell_type": "code",
   "execution_count": null,
   "id": "a5ca4242-e946-41eb-a920-3d9d70190ebf",
   "metadata": {},
   "outputs": [],
   "source": [
    "df.shape"
   ]
  },
  {
   "cell_type": "code",
   "execution_count": null,
   "id": "13f4db71-7695-4688-86ae-8cce032e1799",
   "metadata": {},
   "outputs": [],
   "source": [
    "df.columns"
   ]
  },
  {
   "cell_type": "code",
   "execution_count": null,
   "id": "0460d260-3132-4c25-beb7-d4c9f089b4db",
   "metadata": {},
   "outputs": [],
   "source": [
    "df.head() # first five rows"
   ]
  },
  {
   "cell_type": "code",
   "execution_count": null,
   "id": "a4e4ffb0-85ab-4e6e-8221-62c5ccfa70d4",
   "metadata": {},
   "outputs": [],
   "source": [
    "df.tail()  # last five rows"
   ]
  },
  {
   "cell_type": "code",
   "execution_count": null,
   "id": "29d2306c-4d31-4fbb-85db-60af2dc7134f",
   "metadata": {},
   "outputs": [],
   "source": [
    "df[\"Temperature\"]"
   ]
  },
  {
   "cell_type": "code",
   "execution_count": null,
   "id": "7d3e2236-e245-4dcc-b81a-2b3ec40399d2",
   "metadata": {},
   "outputs": [],
   "source": [
    "df[\"Temperature\"].head()"
   ]
  },
  {
   "cell_type": "code",
   "execution_count": null,
   "id": "9a5be91c-019e-4d25-8926-f014d408e951",
   "metadata": {},
   "outputs": [],
   "source": [
    "df[\"Temperature\"].sum()"
   ]
  },
  {
   "cell_type": "code",
   "execution_count": null,
   "id": "02124b87-c441-48c3-960e-10317de8d8ef",
   "metadata": {},
   "outputs": [],
   "source": [
    "df[\"Temperature\"].mean()"
   ]
  },
  {
   "cell_type": "code",
   "execution_count": null,
   "id": "1fd35f52-abfe-4782-bab8-567623ce44aa",
   "metadata": {},
   "outputs": [],
   "source": [
    "df[\"Temperature\"].median()"
   ]
  },
  {
   "cell_type": "code",
   "execution_count": null,
   "id": "baa604e9-e1ad-4b90-b1a6-bd0ba28b8a5f",
   "metadata": {},
   "outputs": [],
   "source": [
    "df[\"Temperature\"].max()"
   ]
  },
  {
   "cell_type": "code",
   "execution_count": null,
   "id": "c448f794-a532-4e13-9ad8-dfe72aebafbb",
   "metadata": {},
   "outputs": [],
   "source": [
    "df[\"Temperature\"].count()"
   ]
  },
  {
   "cell_type": "code",
   "execution_count": null,
   "id": "a90b8789-ffc0-4a7d-b6ee-9a73a8a425ee",
   "metadata": {},
   "outputs": [],
   "source": [
    "len(df[\"Temperature\"])"
   ]
  },
  {
   "cell_type": "code",
   "execution_count": null,
   "id": "ebe0595f-a8c1-497d-80d2-52c1e6d82b56",
   "metadata": {},
   "outputs": [],
   "source": [
    "df[\"Temperature\"].std()"
   ]
  },
  {
   "cell_type": "code",
   "execution_count": null,
   "id": "e3927381-962c-4135-8a3f-512e9714a5f2",
   "metadata": {},
   "outputs": [],
   "source": [
    "df[\"Temperature\"].describe()"
   ]
  },
  {
   "cell_type": "code",
   "execution_count": null,
   "id": "a0a7dbfb-1150-43a8-b2bb-3078cc22a073",
   "metadata": {},
   "outputs": [],
   "source": [
    "df[[\"Temperature\",'Humidity','VisibilityMiles']]"
   ]
  },
  {
   "cell_type": "code",
   "execution_count": null,
   "id": "bbfed2fe-4cc7-46b8-a8e5-16cd49a3c490",
   "metadata": {},
   "outputs": [],
   "source": [
    "df[[\"Temperature\",'Humidity','VisibilityMiles']].mean()"
   ]
  },
  {
   "cell_type": "code",
   "execution_count": null,
   "id": "ee54efb8-14e0-4db1-9cad-b59f6bb784d5",
   "metadata": {
    "scrolled": true
   },
   "outputs": [],
   "source": [
    "df[[\"Temperature\",'Humidity','VisibilityMiles']].describe()"
   ]
  },
  {
   "cell_type": "code",
   "execution_count": null,
   "id": "125c1e48-1345-4993-b6c8-b9ff0dfea696",
   "metadata": {},
   "outputs": [],
   "source": [
    "#Retrive on index or position\n",
    "#data.iloc[row,column]\n",
    "df.iloc[1,3]"
   ]
  },
  {
   "cell_type": "code",
   "execution_count": null,
   "id": "78329d0c-4a68-437a-b12f-b4e79fa5f7f4",
   "metadata": {},
   "outputs": [],
   "source": [
    "df.iloc[0,:]  "
   ]
  },
  {
   "cell_type": "code",
   "execution_count": null,
   "id": "e0663ce4-84a1-4ce3-823a-77c91d3d34ee",
   "metadata": {},
   "outputs": [],
   "source": [
    "df.iloc[:,0]"
   ]
  },
  {
   "cell_type": "code",
   "execution_count": null,
   "id": "0c40f051-3794-4de1-90da-e40ca5723123",
   "metadata": {},
   "outputs": [],
   "source": [
    "df.iloc[0:5,:]"
   ]
  },
  {
   "cell_type": "code",
   "execution_count": null,
   "id": "53138abe-4277-4c56-be5b-1bd46ee37434",
   "metadata": {},
   "outputs": [],
   "source": [
    "df.loc[2,'Temperature']"
   ]
  },
  {
   "cell_type": "code",
   "execution_count": null,
   "id": "3ff8816e-0887-428b-a8a1-bd17bc6b6dc1",
   "metadata": {},
   "outputs": [],
   "source": [
    "df.loc[2:5,['Temperature','Humidity']]"
   ]
  },
  {
   "cell_type": "markdown",
   "id": "1defe678-3c4f-4c41-893b-2ea484aef246",
   "metadata": {},
   "source": [
    "### Slicing or filtering"
   ]
  },
  {
   "cell_type": "code",
   "execution_count": null,
   "id": "fc4cb833-9512-48c7-8ea3-7d59d081b0e6",
   "metadata": {},
   "outputs": [],
   "source": [
    "df1=df[df.Temperature >= 45]\n",
    "df1"
   ]
  },
  {
   "cell_type": "code",
   "execution_count": null,
   "id": "dc4b187a-6f0d-4a09-978a-21ec35d226a7",
   "metadata": {},
   "outputs": [],
   "source": [
    "df1=df[(df.Temperature >= 45) & df.Humidity>= 30]\n",
    "df1"
   ]
  },
  {
   "cell_type": "code",
   "execution_count": null,
   "id": "89f4f6e8-aaaf-417b-abfa-da1ebc838bce",
   "metadata": {},
   "outputs": [],
   "source": [
    "df1=df[(df.Temperature >= 45) & (df.Humidity>= 60)]\n",
    "df1"
   ]
  },
  {
   "cell_type": "code",
   "execution_count": null,
   "id": "344c26c3-85d1-436c-80a1-6dddc8ef0f50",
   "metadata": {},
   "outputs": [],
   "source": [
    "df1=df[(df.Temperature >= 45) | (df.Humidity>= 60)]\n",
    "df1"
   ]
  },
  {
   "cell_type": "code",
   "execution_count": null,
   "id": "a94e2ded-373d-4db7-bd3b-ffd1d2eb581e",
   "metadata": {},
   "outputs": [],
   "source": [
    "df.sort_values('Temperature', inplace = True)\n",
    "df"
   ]
  },
  {
   "cell_type": "code",
   "execution_count": null,
   "id": "e9ff5595-cb9f-40fc-90d3-d1fea9a00266",
   "metadata": {},
   "outputs": [],
   "source": [
    "df['Temperature'].mean().round(2)"
   ]
  },
  {
   "cell_type": "code",
   "execution_count": null,
   "id": "178dc01e-766a-4c84-b1f9-603bd8739af0",
   "metadata": {},
   "outputs": [],
   "source": [
    "df1 = pd.read_csv(\"D:\\\\Manoj\\\\1ExcelR\\\\Data\\\\first_file.csv\")\n",
    "df2 = pd.read_csv(\"D:\\\\Manoj\\\\1ExcelR\\\\Data\\\\second_file.csv\")\n",
    "df3 = pd.read_csv(\"D:\\\\Manoj\\\\1ExcelR\\\\Data\\\\third_file.csv\")"
   ]
  },
  {
   "cell_type": "code",
   "execution_count": null,
   "id": "34da4cb7-7f8b-4c34-b90c-d82ef69d2e8d",
   "metadata": {},
   "outputs": [],
   "source": [
    "df1  "
   ]
  },
  {
   "cell_type": "markdown",
   "id": "58446844-c2f7-492a-96a5-0fb055123a36",
   "metadata": {},
   "source": [
    "## Identify Null"
   ]
  },
  {
   "cell_type": "code",
   "execution_count": null,
   "id": "b6c6a4dd-f29b-4e12-b789-00d9117ec412",
   "metadata": {},
   "outputs": [],
   "source": [
    "df1.isnull().sum()"
   ]
  },
  {
   "cell_type": "code",
   "execution_count": null,
   "id": "2ceb1783-989f-4ce4-a627-900a56c371d4",
   "metadata": {},
   "outputs": [],
   "source": [
    "df1['age'].mean()"
   ]
  },
  {
   "cell_type": "code",
   "execution_count": null,
   "id": "7b0162b5-a14e-40f8-a147-ac54013a9d7e",
   "metadata": {},
   "outputs": [],
   "source": [
    "# fill the blank with mean / median\n",
    "df1['age'] = df1['age'].fillna(df1['age'].mean())\n",
    "df1"
   ]
  },
  {
   "cell_type": "code",
   "execution_count": null,
   "id": "7cac1d7c-b447-4b9f-bab1-95524df48ea5",
   "metadata": {},
   "outputs": [],
   "source": [
    "df2"
   ]
  },
  {
   "cell_type": "code",
   "execution_count": null,
   "id": "a2f86c75-2aa8-489e-9374-3c0e165ba1a0",
   "metadata": {},
   "outputs": [],
   "source": [
    "# dataframe rows concatinating\n",
    "df4 = pd.concat([df1,df2],ignore_index=True)\n",
    "df4"
   ]
  },
  {
   "cell_type": "code",
   "execution_count": null,
   "id": "39581fa3-0bc9-4491-a1d7-5e9fd2e66233",
   "metadata": {},
   "outputs": [],
   "source": [
    "df3"
   ]
  },
  {
   "cell_type": "code",
   "execution_count": null,
   "id": "c086cba6-e7d6-40a1-8379-4d7b446754cf",
   "metadata": {},
   "outputs": [],
   "source": [
    "# dataframe merging \n",
    "df5 = pd.concat([df4,df3],axis=1) # columns concatening\n",
    "df5"
   ]
  },
  {
   "cell_type": "code",
   "execution_count": null,
   "id": "cfedecae-a000-430d-8dfe-4b345b5e18ee",
   "metadata": {},
   "outputs": [],
   "source": [
    "# calculate the average age of male and female seperately using group by\n",
    "df5.groupby(\"Gender\")['age'].mean() "
   ]
  },
  {
   "cell_type": "code",
   "execution_count": null,
   "id": "02ab0c2a-64a8-4ebc-8248-4327020bad3c",
   "metadata": {},
   "outputs": [],
   "source": [
    "dict1 = {'stock':['s1', 's2','s3', 's2'],'price':[10,50,15,50]}\n",
    "df1 = pd.DataFrame(dict1)\n",
    "df1"
   ]
  },
  {
   "cell_type": "code",
   "execution_count": null,
   "id": "a22f0c8e-6052-4faf-8d3b-b37492b76ccf",
   "metadata": {},
   "outputs": [],
   "source": [
    "df1_Nodup = df1.drop_duplicates()\n",
    "df1_Nodup"
   ]
  },
  {
   "cell_type": "code",
   "execution_count": null,
   "id": "f321176c-ffe8-4d0b-a132-f961d6cda8d9",
   "metadata": {},
   "outputs": [],
   "source": [
    "# drop row\n",
    "df2 = df1.drop(index=1)\n",
    "df2\n"
   ]
  },
  {
   "cell_type": "code",
   "execution_count": null,
   "id": "7c8cac28-6c47-470c-b315-d9b54ada9699",
   "metadata": {},
   "outputs": [],
   "source": [
    "#drop column\n",
    "df2 = df1.drop(columns='price')\n",
    "df2"
   ]
  },
  {
   "cell_type": "code",
   "execution_count": null,
   "id": "cdf98990-af5f-431f-92de-b8198432baed",
   "metadata": {},
   "outputs": [],
   "source": []
  },
  {
   "cell_type": "code",
   "execution_count": null,
   "id": "27f67842-3588-4ee3-a8cc-13787e784cd4",
   "metadata": {},
   "outputs": [],
   "source": [
    "df4 = pd.read_csv(r\"D:\\Manoj\\1ExcelR\\Data\\market.csv\")"
   ]
  },
  {
   "cell_type": "code",
   "execution_count": null,
   "id": "1d74a92c-cdaa-4160-b385-328ce4feec04",
   "metadata": {},
   "outputs": [],
   "source": [
    "df4.info()"
   ]
  },
  {
   "cell_type": "code",
   "execution_count": null,
   "id": "39a927fc-aecf-4b63-bc42-c16932ef0259",
   "metadata": {},
   "outputs": [],
   "source": [
    "df4.head()"
   ]
  },
  {
   "cell_type": "code",
   "execution_count": null,
   "id": "a654d2c9-a2d5-43ed-81f7-d069b36fdff3",
   "metadata": {},
   "outputs": [],
   "source": [
    "df4['Product'].unique()"
   ]
  },
  {
   "cell_type": "code",
   "execution_count": null,
   "id": "3b24a5e0-e69d-45a4-b898-3838d8cd6a9f",
   "metadata": {},
   "outputs": [],
   "source": [
    "df4['Product'].value_counts()"
   ]
  },
  {
   "cell_type": "code",
   "execution_count": null,
   "id": "7baea6ad-dc7a-4a21-9653-56097fa6c70a",
   "metadata": {},
   "outputs": [],
   "source": [
    "df4['Sales'].groupby(df4['Product']).sum()"
   ]
  },
  {
   "cell_type": "code",
   "execution_count": null,
   "id": "e79fb492-e480-495c-b108-6fdba17d5e09",
   "metadata": {},
   "outputs": [],
   "source": [
    "df4['Sales'].groupby(df4['Product']).mean()"
   ]
  },
  {
   "cell_type": "code",
   "execution_count": null,
   "id": "df0df787-1182-48dc-ad83-c6e78f5a86d8",
   "metadata": {},
   "outputs": [],
   "source": [
    "df4['TotalQnt'] = df4['Inventory']+ df4['Returns']\n",
    "df4.head()"
   ]
  },
  {
   "cell_type": "code",
   "execution_count": null,
   "id": "fdcb0d33-fc7c-4eb8-bbb7-9cc8ddc0026d",
   "metadata": {},
   "outputs": [],
   "source": [
    "df4.to_csv(r\"D:\\Manoj\\1ExcelR\\Data\\market1.csv\",index=False)"
   ]
  },
  {
   "cell_type": "code",
   "execution_count": null,
   "id": "306c43ea-e926-4d12-9367-c0c234d47a93",
   "metadata": {},
   "outputs": [],
   "source": []
  }
 ],
 "metadata": {
  "kernelspec": {
   "display_name": "Python 3 (ipykernel)",
   "language": "python",
   "name": "python3"
  },
  "language_info": {
   "codemirror_mode": {
    "name": "ipython",
    "version": 3
   },
   "file_extension": ".py",
   "mimetype": "text/x-python",
   "name": "python",
   "nbconvert_exporter": "python",
   "pygments_lexer": "ipython3",
   "version": "3.13.5"
  }
 },
 "nbformat": 4,
 "nbformat_minor": 5
}
