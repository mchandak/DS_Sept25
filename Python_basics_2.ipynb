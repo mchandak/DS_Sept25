{
 "cells": [
  {
   "attachments": {},
   "cell_type": "markdown",
   "id": "9ef96a2b-1280-4b8d-a18e-c17975162b0f",
   "metadata": {},
   "source": [
    "List - A list is a data structure in Python  is a mutable, ordered sequence of elements.\n",
    "Lists are written with square brackets []"
   ]
  },
  {
   "cell_type": "code",
   "execution_count": null,
   "id": "254472ab",
   "metadata": {
    "colab": {
     "base_uri": "https://localhost:8080/"
    },
    "executionInfo": {
     "elapsed": 54,
     "status": "ok",
     "timestamp": 1758103976127,
     "user": {
      "displayName": "Pushkar Sathe",
      "userId": "10259827380981996777"
     },
     "user_tz": -330
    },
    "id": "254472ab",
    "outputId": "706416b6-4a38-4f0c-ffcd-67303dc024da"
   },
   "outputs": [],
   "source": [
    "j1 = []\n",
    "j1"
   ]
  },
  {
   "cell_type": "code",
   "execution_count": null,
   "id": "a1a75e8d",
   "metadata": {
    "colab": {
     "base_uri": "https://localhost:8080/"
    },
    "executionInfo": {
     "elapsed": 106,
     "status": "ok",
     "timestamp": 1758104007653,
     "user": {
      "displayName": "Pushkar Sathe",
      "userId": "10259827380981996777"
     },
     "user_tz": -330
    },
    "id": "a1a75e8d",
    "outputId": "2fca01e3-5449-4e7b-ab26-55ebd6ba63df"
   },
   "outputs": [],
   "source": [
    "type(j1)"
   ]
  },
  {
   "cell_type": "code",
   "execution_count": null,
   "id": "8bd6e10a",
   "metadata": {
    "colab": {
     "base_uri": "https://localhost:8080/"
    },
    "executionInfo": {
     "elapsed": 116,
     "status": "ok",
     "timestamp": 1758104452885,
     "user": {
      "displayName": "Pushkar Sathe",
      "userId": "10259827380981996777"
     },
     "user_tz": -330
    },
    "id": "8bd6e10a",
    "outputId": "33ca4975-a01a-4a11-d59c-46fcc4a27784"
   },
   "outputs": [],
   "source": [
    "#       0   1   2  3    4        5    6\n",
    "\n",
    "j1  =  [10, 25, 2, 14, 'apple', True, 23.5]\n",
    "j1"
   ]
  },
  {
   "cell_type": "code",
   "execution_count": null,
   "id": "2dd49d34",
   "metadata": {
    "colab": {
     "base_uri": "https://localhost:8080/"
    },
    "executionInfo": {
     "elapsed": 86,
     "status": "ok",
     "timestamp": 1758104455892,
     "user": {
      "displayName": "Pushkar Sathe",
      "userId": "10259827380981996777"
     },
     "user_tz": -330
    },
    "id": "2dd49d34",
    "outputId": "0070f360-bb24-489a-cc07-2d045c373479"
   },
   "outputs": [],
   "source": [
    "len(j1)"
   ]
  },
  {
   "cell_type": "code",
   "execution_count": null,
   "id": "de7f561c",
   "metadata": {
    "colab": {
     "base_uri": "https://localhost:8080/"
    },
    "executionInfo": {
     "elapsed": 65,
     "status": "ok",
     "timestamp": 1758104458286,
     "user": {
      "displayName": "Pushkar Sathe",
      "userId": "10259827380981996777"
     },
     "user_tz": -330
    },
    "id": "de7f561c",
    "outputId": "49c96969-6d0b-407d-b20e-789c585561ee"
   },
   "outputs": [],
   "source": [
    "j1[4]"
   ]
  },
  {
   "cell_type": "code",
   "execution_count": null,
   "id": "c3ec38a1",
   "metadata": {
    "executionInfo": {
     "elapsed": 46,
     "status": "ok",
     "timestamp": 1758104468506,
     "user": {
      "displayName": "Pushkar Sathe",
      "userId": "10259827380981996777"
     },
     "user_tz": -330
    },
    "id": "c3ec38a1"
   },
   "outputs": [],
   "source": [
    "j1[4] = 50"
   ]
  },
  {
   "cell_type": "code",
   "execution_count": null,
   "id": "a62f64ba",
   "metadata": {
    "colab": {
     "base_uri": "https://localhost:8080/"
    },
    "executionInfo": {
     "elapsed": 81,
     "status": "ok",
     "timestamp": 1758104474574,
     "user": {
      "displayName": "Pushkar Sathe",
      "userId": "10259827380981996777"
     },
     "user_tz": -330
    },
    "id": "a62f64ba",
    "outputId": "0a401002-f888-4bc9-996f-a8be725bc528"
   },
   "outputs": [],
   "source": [
    "j1"
   ]
  },
  {
   "cell_type": "code",
   "execution_count": null,
   "id": "b8e699a8",
   "metadata": {
    "colab": {
     "base_uri": "https://localhost:8080/",
     "height": 141
    },
    "executionInfo": {
     "elapsed": 96,
     "status": "error",
     "timestamp": 1758104478703,
     "user": {
      "displayName": "Pushkar Sathe",
      "userId": "10259827380981996777"
     },
     "user_tz": -330
    },
    "id": "b8e699a8",
    "outputId": "e78b4e2c-0751-4ae2-e224-755a2b9eba14"
   },
   "outputs": [],
   "source": [
    "j1[7] # we may get erros as below"
   ]
  },
  {
   "cell_type": "code",
   "execution_count": null,
   "id": "89256e83",
   "metadata": {
    "colab": {
     "base_uri": "https://localhost:8080/"
    },
    "executionInfo": {
     "elapsed": 118,
     "status": "ok",
     "timestamp": 1758104483908,
     "user": {
      "displayName": "Pushkar Sathe",
      "userId": "10259827380981996777"
     },
     "user_tz": -330
    },
    "id": "89256e83",
    "outputId": "f9cdf561-67c9-4022-c0cf-0c87ce325b8e"
   },
   "outputs": [],
   "source": [
    "j1.append(18)  # last place will be added\n",
    "j1"
   ]
  },
  {
   "cell_type": "code",
   "execution_count": null,
   "id": "e2bc8496",
   "metadata": {
    "colab": {
     "base_uri": "https://localhost:8080/"
    },
    "executionInfo": {
     "elapsed": 96,
     "status": "ok",
     "timestamp": 1758104503126,
     "user": {
      "displayName": "Pushkar Sathe",
      "userId": "10259827380981996777"
     },
     "user_tz": -330
    },
    "id": "e2bc8496",
    "outputId": "bbc446b8-773e-459f-efe9-7970ad03d429"
   },
   "outputs": [],
   "source": [
    "j1.insert(5, 29)\n",
    "j1"
   ]
  },
  {
   "cell_type": "code",
   "execution_count": null,
   "id": "04632432",
   "metadata": {
    "colab": {
     "base_uri": "https://localhost:8080/"
    },
    "executionInfo": {
     "elapsed": 91,
     "status": "ok",
     "timestamp": 1758104510260,
     "user": {
      "displayName": "Pushkar Sathe",
      "userId": "10259827380981996777"
     },
     "user_tz": -330
    },
    "id": "04632432",
    "outputId": "cf4a3f3c-3dac-4cf0-d422-d4d9572ca528"
   },
   "outputs": [],
   "source": [
    "j1.pop()  # removes last value\n",
    "j1"
   ]
  },
  {
   "cell_type": "code",
   "execution_count": null,
   "id": "470bb362",
   "metadata": {
    "colab": {
     "base_uri": "https://localhost:8080/"
    },
    "executionInfo": {
     "elapsed": 113,
     "status": "ok",
     "timestamp": 1758104522181,
     "user": {
      "displayName": "Pushkar Sathe",
      "userId": "10259827380981996777"
     },
     "user_tz": -330
    },
    "id": "470bb362",
    "outputId": "b1f178e6-9984-473e-daf2-3f624dc875a7"
   },
   "outputs": [],
   "source": [
    "j1.pop(7) # removes the values as per index\n",
    "j1"
   ]
  },
  {
   "cell_type": "code",
   "execution_count": null,
   "id": "6a052046",
   "metadata": {
    "colab": {
     "base_uri": "https://localhost:8080/"
    },
    "executionInfo": {
     "elapsed": 68,
     "status": "ok",
     "timestamp": 1758104528554,
     "user": {
      "displayName": "Pushkar Sathe",
      "userId": "10259827380981996777"
     },
     "user_tz": -330
    },
    "id": "6a052046",
    "outputId": "7c4bfee0-fa5c-44fc-d57d-7075f6babf02"
   },
   "outputs": [],
   "source": [
    "j1.remove('apple') # removes with direct values\n",
    "j1"
   ]
  },
  {
   "cell_type": "code",
   "execution_count": null,
   "id": "eafbbf4b",
   "metadata": {
    "colab": {
     "base_uri": "https://localhost:8080/"
    },
    "executionInfo": {
     "elapsed": 89,
     "status": "ok",
     "timestamp": 1758104542807,
     "user": {
      "displayName": "Pushkar Sathe",
      "userId": "10259827380981996777"
     },
     "user_tz": -330
    },
    "id": "eafbbf4b",
    "outputId": "468c77b7-7ae6-4870-9f13-8b0a8e6bac9c"
   },
   "outputs": [],
   "source": [
    "# tuple - It is immutable \n",
    "t1 = ()\n",
    "t1 = (12,14,36, 15.6, True, \"cat\")\n",
    "t1\n"
   ]
  },
  {
   "cell_type": "code",
   "execution_count": null,
   "id": "6d384ed2",
   "metadata": {
    "colab": {
     "base_uri": "https://localhost:8080/"
    },
    "executionInfo": {
     "elapsed": 72,
     "status": "ok",
     "timestamp": 1758104545940,
     "user": {
      "displayName": "Pushkar Sathe",
      "userId": "10259827380981996777"
     },
     "user_tz": -330
    },
    "id": "6d384ed2",
    "outputId": "2a8fea46-018f-4735-de7e-3912a06261af"
   },
   "outputs": [],
   "source": [
    "type(t1)"
   ]
  },
  {
   "cell_type": "code",
   "execution_count": null,
   "id": "aa147d4d",
   "metadata": {
    "colab": {
     "base_uri": "https://localhost:8080/"
    },
    "executionInfo": {
     "elapsed": 64,
     "status": "ok",
     "timestamp": 1758104548983,
     "user": {
      "displayName": "Pushkar Sathe",
      "userId": "10259827380981996777"
     },
     "user_tz": -330
    },
    "id": "aa147d4d",
    "outputId": "ccb49524-18a7-4041-9934-96237f0af238"
   },
   "outputs": [],
   "source": [
    "t1[0]"
   ]
  },
  {
   "cell_type": "code",
   "execution_count": null,
   "id": "b701e04c",
   "metadata": {
    "colab": {
     "base_uri": "https://localhost:8080/"
    },
    "executionInfo": {
     "elapsed": 84,
     "status": "ok",
     "timestamp": 1758104553942,
     "user": {
      "displayName": "Pushkar Sathe",
      "userId": "10259827380981996777"
     },
     "user_tz": -330
    },
    "id": "b701e04c",
    "outputId": "7ee43e9a-5ba3-4ef7-b211-e1c83e62af31"
   },
   "outputs": [],
   "source": [
    "len(t1)"
   ]
  },
  {
   "cell_type": "code",
   "execution_count": null,
   "id": "65670f48",
   "metadata": {
    "colab": {
     "base_uri": "https://localhost:8080/",
     "height": 159
    },
    "executionInfo": {
     "elapsed": 92,
     "status": "error",
     "timestamp": 1758104557161,
     "user": {
      "displayName": "Pushkar Sathe",
      "userId": "10259827380981996777"
     },
     "user_tz": -330
    },
    "id": "65670f48",
    "outputId": "f9eb1c17-1f86-4406-a3ab-c4e676aa12c9"
   },
   "outputs": [],
   "source": [
    "t1[0] = 25  # tuple wont accept for changes\n",
    "t1"
   ]
  },
  {
   "cell_type": "code",
   "execution_count": null,
   "id": "5d9c2474",
   "metadata": {
    "colab": {
     "base_uri": "https://localhost:8080/"
    },
    "executionInfo": {
     "elapsed": 142,
     "status": "ok",
     "timestamp": 1758104566636,
     "user": {
      "displayName": "Pushkar Sathe",
      "userId": "10259827380981996777"
     },
     "user_tz": -330
    },
    "id": "5d9c2474",
    "outputId": "a9e6a5fa-37bd-488e-ec71-30ed120764af"
   },
   "outputs": [],
   "source": [
    "t2 = (12, 10, 10,15, 23, 10,28)\n",
    "t2"
   ]
  },
  {
   "cell_type": "code",
   "execution_count": null,
   "id": "d51855d6",
   "metadata": {
    "colab": {
     "base_uri": "https://localhost:8080/"
    },
    "executionInfo": {
     "elapsed": 89,
     "status": "ok",
     "timestamp": 1758104573371,
     "user": {
      "displayName": "Pushkar Sathe",
      "userId": "10259827380981996777"
     },
     "user_tz": -330
    },
    "id": "d51855d6",
    "outputId": "471b0361-1d1a-458a-ffc1-751c73f70404"
   },
   "outputs": [],
   "source": [
    "t2.count(10)  # counting the number of times the values is passed"
   ]
  },
  {
   "cell_type": "code",
   "execution_count": null,
   "id": "f080cb06",
   "metadata": {
    "colab": {
     "base_uri": "https://localhost:8080/"
    },
    "executionInfo": {
     "elapsed": 64,
     "status": "ok",
     "timestamp": 1758104616454,
     "user": {
      "displayName": "Pushkar Sathe",
      "userId": "10259827380981996777"
     },
     "user_tz": -330
    },
    "id": "f080cb06",
    "outputId": "4e5dcacb-57f1-4a78-a6f8-df0bea870852"
   },
   "outputs": [],
   "source": [
    "t2.index(15) # showing the index position"
   ]
  },
  {
   "cell_type": "code",
   "execution_count": null,
   "id": "d2040b4b",
   "metadata": {
    "colab": {
     "base_uri": "https://localhost:8080/"
    },
    "executionInfo": {
     "elapsed": 85,
     "status": "ok",
     "timestamp": 1758104629203,
     "user": {
      "displayName": "Pushkar Sathe",
      "userId": "10259827380981996777"
     },
     "user_tz": -330
    },
    "id": "d2040b4b",
    "outputId": "97482c00-b90c-4e23-d44f-d076c8f7e8e6"
   },
   "outputs": [],
   "source": [
    "t2.index(10) # by default it takes first choice"
   ]
  },
  {
   "cell_type": "code",
   "execution_count": null,
   "id": "402babea",
   "metadata": {
    "colab": {
     "base_uri": "https://localhost:8080/"
    },
    "executionInfo": {
     "elapsed": 80,
     "status": "ok",
     "timestamp": 1758104677777,
     "user": {
      "displayName": "Pushkar Sathe",
      "userId": "10259827380981996777"
     },
     "user_tz": -330
    },
    "id": "402babea",
    "outputId": "3043cc4e-af56-4f40-cda2-016f0c5241dc"
   },
   "outputs": [],
   "source": [
    "# using dictionary - Dictionary has a key & value pair. It is written with curly brackets\n",
    "dict1= {'Lap1':40000,'Lap2':50000,'Lap3':60000,'Lap4':30000}\n",
    "dict1"
   ]
  },
  {
   "cell_type": "code",
   "execution_count": null,
   "id": "9191fbef",
   "metadata": {
    "colab": {
     "base_uri": "https://localhost:8080/"
    },
    "executionInfo": {
     "elapsed": 85,
     "status": "ok",
     "timestamp": 1758104687435,
     "user": {
      "displayName": "Pushkar Sathe",
      "userId": "10259827380981996777"
     },
     "user_tz": -330
    },
    "id": "9191fbef",
    "outputId": "304ff419-4d12-44f1-9608-c44373e0c841"
   },
   "outputs": [],
   "source": [
    "dict1['Lap2'] # Retrive"
   ]
  },
  {
   "cell_type": "code",
   "execution_count": null,
   "id": "ef3efd24",
   "metadata": {
    "colab": {
     "base_uri": "https://localhost:8080/"
    },
    "executionInfo": {
     "elapsed": 84,
     "status": "ok",
     "timestamp": 1758104689224,
     "user": {
      "displayName": "Pushkar Sathe",
      "userId": "10259827380981996777"
     },
     "user_tz": -330
    },
    "id": "ef3efd24",
    "outputId": "5b1ae2f7-5e9b-4199-c2d1-687808c257af"
   },
   "outputs": [],
   "source": [
    "dict1['Lap5']=55000   #adding\n",
    "dict1"
   ]
  },
  {
   "cell_type": "code",
   "execution_count": null,
   "id": "c8392cdd",
   "metadata": {
    "colab": {
     "base_uri": "https://localhost:8080/"
    },
    "executionInfo": {
     "elapsed": 118,
     "status": "ok",
     "timestamp": 1758104737764,
     "user": {
      "displayName": "Pushkar Sathe",
      "userId": "10259827380981996777"
     },
     "user_tz": -330
    },
    "id": "c8392cdd",
    "outputId": "2a8eb18f-f30e-4ecf-f432-03733de6bcf9"
   },
   "outputs": [],
   "source": [
    "dict1['Lap1']=45000        #updating\n",
    "dict1"
   ]
  },
  {
   "cell_type": "code",
   "execution_count": null,
   "id": "ac5cf815",
   "metadata": {
    "colab": {
     "base_uri": "https://localhost:8080/"
    },
    "executionInfo": {
     "elapsed": 98,
     "status": "ok",
     "timestamp": 1758104742978,
     "user": {
      "displayName": "Pushkar Sathe",
      "userId": "10259827380981996777"
     },
     "user_tz": -330
    },
    "id": "ac5cf815",
    "outputId": "3ab5e971-1d56-43cb-df32-e541a3f63234"
   },
   "outputs": [],
   "source": [
    "del(dict1['Lap4'])   # Deleting\n",
    "dict1"
   ]
  },
  {
   "cell_type": "code",
   "execution_count": null,
   "id": "5e2b57d8",
   "metadata": {
    "colab": {
     "base_uri": "https://localhost:8080/"
    },
    "executionInfo": {
     "elapsed": 103,
     "status": "ok",
     "timestamp": 1758104745106,
     "user": {
      "displayName": "Pushkar Sathe",
      "userId": "10259827380981996777"
     },
     "user_tz": -330
    },
    "id": "5e2b57d8",
    "outputId": "8036312f-d4a9-4c9d-f672-f3db8fc7439c"
   },
   "outputs": [],
   "source": [
    "dict1.keys()"
   ]
  },
  {
   "cell_type": "code",
   "execution_count": null,
   "id": "042f5946",
   "metadata": {
    "executionInfo": {
     "elapsed": 97,
     "status": "ok",
     "timestamp": 1758104751708,
     "user": {
      "displayName": "Pushkar Sathe",
      "userId": "10259827380981996777"
     },
     "user_tz": -330
    },
    "id": "042f5946"
   },
   "outputs": [],
   "source": [
    "lstkey=list(dict1.keys())\n",
    "lstkey"
   ]
  },
  {
   "cell_type": "code",
   "execution_count": null,
   "id": "bd91ef7d",
   "metadata": {
    "colab": {
     "base_uri": "https://localhost:8080/"
    },
    "executionInfo": {
     "elapsed": 100,
     "status": "ok",
     "timestamp": 1758104761251,
     "user": {
      "displayName": "Pushkar Sathe",
      "userId": "10259827380981996777"
     },
     "user_tz": -330
    },
    "id": "bd91ef7d",
    "outputId": "165ac59c-9525-4636-d06a-3bf3d671e024"
   },
   "outputs": [],
   "source": [
    "lstval=list(dict1.values())\n",
    "lstval"
   ]
  },
  {
   "cell_type": "code",
   "execution_count": null,
   "id": "0357ee13-1d20-4569-95b3-90ac3208e13f",
   "metadata": {
    "colab": {
     "base_uri": "https://localhost:8080/"
    },
    "executionInfo": {
     "elapsed": 115,
     "status": "ok",
     "timestamp": 1758104639483,
     "user": {
      "displayName": "Pushkar Sathe",
      "userId": "10259827380981996777"
     },
     "user_tz": -330
    },
    "id": "7eced30e",
    "outputId": "8735f3c0-93e1-4405-92a1-2f589355db30"
   },
   "outputs": [],
   "source": [
    "# using sets - Set elements are unique. Duplicate elements are not allowed.\n",
    "# Set is unordered, so it doesn’t support indexing \n",
    "\n",
    "s1 =  {75,14,25,10,68,14,25,19,25}\n",
    "s1"
   ]
  },
  {
   "cell_type": "code",
   "execution_count": null,
   "id": "266a51f5-1575-4ffc-a82d-dc7d82cc1516",
   "metadata": {},
   "outputs": [],
   "source": [
    "lst1 = [75,14,25,10,68,14,25,19,25]\n",
    "s2 = set (lst1)\n",
    "s2"
   ]
  },
  {
   "cell_type": "code",
   "execution_count": null,
   "id": "a93c0019-655d-48f6-8d7f-02c271a97cb6",
   "metadata": {},
   "outputs": [],
   "source": [
    "## Union\n",
    "s1 = {1,2,3}\n",
    "s2 = {3,4,5}"
   ]
  },
  {
   "cell_type": "code",
   "execution_count": null,
   "id": "e8e07de4-2d3c-4513-8984-8393ee236404",
   "metadata": {},
   "outputs": [],
   "source": [
    "s1 | s2"
   ]
  },
  {
   "cell_type": "code",
   "execution_count": null,
   "id": "1d8bcfb5-1802-4762-a505-4149c776dff8",
   "metadata": {},
   "outputs": [],
   "source": [
    "## Intersection\n",
    "s1 = {1,2,3,4}\n",
    "s2 = {3,4,5}"
   ]
  },
  {
   "cell_type": "code",
   "execution_count": null,
   "id": "1202a97b-52f0-4a56-aba2-6b42d162f3f6",
   "metadata": {},
   "outputs": [],
   "source": [
    "s1 & s2"
   ]
  },
  {
   "cell_type": "code",
   "execution_count": null,
   "id": "105938ca-8d2b-40eb-be58-f3ecdbe606d1",
   "metadata": {},
   "outputs": [],
   "source": [
    "# More Examples"
   ]
  },
  {
   "cell_type": "code",
   "execution_count": null,
   "id": "aaf39566-02c8-48b2-af02-aa698534ef8c",
   "metadata": {},
   "outputs": [],
   "source": [
    "lst1= [70, 20, 40, 60, 80, 50]"
   ]
  },
  {
   "cell_type": "code",
   "execution_count": null,
   "id": "8635004c-9e31-47ce-93ed-b466d4313d7f",
   "metadata": {},
   "outputs": [],
   "source": [
    "lst1[2]"
   ]
  },
  {
   "cell_type": "code",
   "execution_count": null,
   "id": "328f5427-b7ca-4dd5-9019-bf7292028d43",
   "metadata": {},
   "outputs": [],
   "source": [
    "lst1[-2]"
   ]
  },
  {
   "cell_type": "code",
   "execution_count": null,
   "id": "dab2caef-906b-4e72-b960-0e8eb2fbc6e7",
   "metadata": {},
   "outputs": [],
   "source": [
    "# Slicing list  (SLicing with steps)\n",
    "# L [ start : stop : step ] "
   ]
  },
  {
   "cell_type": "code",
   "execution_count": null,
   "id": "6b3c82d0-9965-4c87-8aea-27288dac3002",
   "metadata": {},
   "outputs": [],
   "source": [
    "lst1= [70, 20, 40, 60, 80, 50,70,90]"
   ]
  },
  {
   "cell_type": "code",
   "execution_count": null,
   "id": "6c4548c0-3b10-4a3e-98ac-f88a519881b2",
   "metadata": {},
   "outputs": [],
   "source": [
    "lst1[1:4]"
   ]
  },
  {
   "cell_type": "code",
   "execution_count": null,
   "id": "2f250991-0d9e-4f78-8558-663d94c9b5a1",
   "metadata": {},
   "outputs": [],
   "source": [
    "lst1[1:]"
   ]
  },
  {
   "cell_type": "code",
   "execution_count": null,
   "id": "a40a2c41-8637-4858-9bf7-02be2f08f5c8",
   "metadata": {},
   "outputs": [],
   "source": [
    "lst1[:4]"
   ]
  },
  {
   "cell_type": "code",
   "execution_count": null,
   "id": "8101a390-d0d0-4aca-a2c9-e0bbef2ae271",
   "metadata": {},
   "outputs": [],
   "source": [
    "lst1[1:6:2]"
   ]
  },
  {
   "cell_type": "code",
   "execution_count": null,
   "id": "b450cfbb-96fd-4ece-a4b4-bd6baff7c96b",
   "metadata": {},
   "outputs": [],
   "source": [
    "#Sorting list\n",
    "lst1.sort()\n",
    "lst1"
   ]
  },
  {
   "cell_type": "code",
   "execution_count": null,
   "id": "3d4c46e1-99ea-4f20-b07a-3b446b6d2bd4",
   "metadata": {},
   "outputs": [],
   "source": [
    "lst1.sort(reverse = True)\n",
    "lst1"
   ]
  },
  {
   "cell_type": "code",
   "execution_count": null,
   "id": "3fd7196e-91e3-4491-b61d-05bdade8c1e9",
   "metadata": {},
   "outputs": [],
   "source": [
    "sum(lst1)"
   ]
  },
  {
   "cell_type": "code",
   "execution_count": null,
   "id": "760b3670-ac41-4029-952d-3c46cf2c5593",
   "metadata": {},
   "outputs": [],
   "source": [
    "len(lst1)"
   ]
  },
  {
   "cell_type": "code",
   "execution_count": null,
   "id": "32fdb62c-d151-44ff-91cf-8abe3c9f3d85",
   "metadata": {},
   "outputs": [],
   "source": [
    "avg = sum(lst1)/len(lst1)\n",
    "avg"
   ]
  },
  {
   "cell_type": "code",
   "execution_count": null,
   "id": "92723bfa-0528-4034-a72b-7420a357857d",
   "metadata": {},
   "outputs": [],
   "source": [
    "a = [1, 2]\n",
    "b = [3, 4]\n",
    "a.extend(b)  # Extend the list\n",
    "a"
   ]
  },
  {
   "cell_type": "code",
   "execution_count": null,
   "id": "52f44cf8-ac3a-4725-917b-d36854a5955b",
   "metadata": {},
   "outputs": [],
   "source": [
    "a = [1, 2]\n",
    "b = [3, 4]\n",
    "c = a + b  # Concatenates\n",
    "print(c)"
   ]
  },
  {
   "cell_type": "code",
   "execution_count": null,
   "id": "c7723a99-ed8a-470e-990c-10cba8d78fff",
   "metadata": {},
   "outputs": [],
   "source": [
    "c.clear()\n",
    "c"
   ]
  },
  {
   "cell_type": "code",
   "execution_count": null,
   "id": "82ca5437-a7c1-4eab-8f35-6893b61b571e",
   "metadata": {},
   "outputs": [],
   "source": []
  }
 ],
 "metadata": {
  "colab": {
   "provenance": []
  },
  "kernelspec": {
   "display_name": "Python 3 (ipykernel)",
   "language": "python",
   "name": "python3"
  },
  "language_info": {
   "codemirror_mode": {
    "name": "ipython",
    "version": 3
   },
   "file_extension": ".py",
   "mimetype": "text/x-python",
   "name": "python",
   "nbconvert_exporter": "python",
   "pygments_lexer": "ipython3",
   "version": "3.13.5"
  }
 },
 "nbformat": 4,
 "nbformat_minor": 5
}
