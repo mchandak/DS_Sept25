{
 "cells": [
  {
   "cell_type": "markdown",
   "id": "741866b6",
   "metadata": {
    "id": "741866b6"
   },
   "source": [
    "# Normal distribution\n",
    "\n",
    "The annual salaries of employees in a large company are approximately normally distributed with a mean of $50,000 and a\n",
    "standard deviation of $10,000.\n",
    "\n",
    "a) What percent of people earn less than $60,000?\n",
    "![image-2.png](attachment:image-2.png)"
   ]
  },
  {
   "cell_type": "raw",
   "id": "32a06aeb-2882-47c7-925f-2a30ce8609a7",
   "metadata": {
    "id": "b6ea988f",
    "outputId": "cd859554-273a-4de8-860c-a169c20e7600"
   },
   "source": [
    "from scipy.stats import norm\n",
    "nd  = norm(50000,10000)\n",
    "  \n",
    "x1 = nd.cdf(60000)\n",
    "round(x1,2)"
   ]
  },
  {
   "cell_type": "markdown",
   "id": "6d2f7b2f",
   "metadata": {
    "id": "6d2f7b2f"
   },
   "source": [
    "# Example 2\n",
    "A radar unit is used to measure speeds of cars on a highway. The speeds are normally distributed with a mean of 90 km/hr and a standard deviation of 10 km/hr.\n",
    "What is the probability that a car picked at random is travelling at more than 100 km/hr?\n",
    "![image.png](attachment:image.png)"
   ]
  },
  {
   "cell_type": "code",
   "execution_count": 2,
   "id": "263d5f0e",
   "metadata": {
    "id": "263d5f0e",
    "outputId": "8de65cbf-7678-4047-eda3-eaef0dacf9c3"
   },
   "outputs": [
    {
     "data": {
      "text/plain": [
       "np.float64(0.15865525393145707)"
      ]
     },
     "execution_count": 2,
     "metadata": {},
     "output_type": "execute_result"
    }
   ],
   "source": [
    "from scipy.stats import norm\n",
    "nd  = norm(90,10)\n",
    "\n",
    "x2 = 1 - nd.cdf(100)\n",
    "x2"
   ]
  },
  {
   "cell_type": "markdown",
   "id": "58280245",
   "metadata": {
    "id": "58280245"
   },
   "source": [
    "# Example 3\n",
    "\n",
    "\n",
    "For a certain type of mobiles, the length of time between charges of the battery is normally distributed with a mean of 10 hours and a standard deviation of 20 minutes. John owns one of these mobiles and wants to know the probability that the length of time will be between 10 and 11 hours.\n",
    "\n",
    "![image.png](attachment:image.png)"
   ]
  },
  {
   "cell_type": "code",
   "execution_count": 4,
   "id": "bbc4a556",
   "metadata": {
    "id": "bbc4a556",
    "outputId": "06eb0455-ab86-467a-ebd3-b2c0baec2e1e"
   },
   "outputs": [
    {
     "data": {
      "text/plain": [
       "np.float64(0.4987)"
      ]
     },
     "execution_count": 4,
     "metadata": {},
     "output_type": "execute_result"
    }
   ],
   "source": [
    "from scipy.stats import norm\n",
    "nd  = norm(600,20)\n",
    "\n",
    "x3 = nd.cdf(660) - nd.cdf(600)\n",
    "round(x3,4)"
   ]
  },
  {
   "cell_type": "code",
   "execution_count": null,
   "id": "2f497057",
   "metadata": {
    "id": "2f497057"
   },
   "outputs": [],
   "source": []
  }
 ],
 "metadata": {
  "colab": {
   "provenance": []
  },
  "kernelspec": {
   "display_name": "Python 3 (ipykernel)",
   "language": "python",
   "name": "python3"
  },
  "language_info": {
   "codemirror_mode": {
    "name": "ipython",
    "version": 3
   },
   "file_extension": ".py",
   "mimetype": "text/x-python",
   "name": "python",
   "nbconvert_exporter": "python",
   "pygments_lexer": "ipython3",
   "version": "3.13.5"
  }
 },
 "nbformat": 4,
 "nbformat_minor": 5
}
