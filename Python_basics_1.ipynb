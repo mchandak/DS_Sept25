{
 "cells": [
  {
   "cell_type": "code",
   "execution_count": 1,
   "id": "88f31ecc",
   "metadata": {
    "colab": {
     "base_uri": "https://localhost:8080/"
    },
    "executionInfo": {
     "elapsed": 110,
     "status": "ok",
     "timestamp": 1758101167416,
     "user": {
      "displayName": "Pushkar Sathe",
      "userId": "10259827380981996777"
     },
     "user_tz": -330
    },
    "id": "88f31ecc",
    "outputId": "e7fb0f1d-b27d-4739-d6a1-64071a9fea84"
   },
   "outputs": [
    {
     "data": {
      "text/plain": [
       "10"
      ]
     },
     "execution_count": 1,
     "metadata": {},
     "output_type": "execute_result"
    }
   ],
   "source": [
    "#  create an object\n",
    "x1 = 10\n",
    "x1"
   ]
  },
  {
   "cell_type": "code",
   "execution_count": 2,
   "id": "0845732b",
   "metadata": {
    "colab": {
     "base_uri": "https://localhost:8080/"
    },
    "executionInfo": {
     "elapsed": 88,
     "status": "ok",
     "timestamp": 1758101171422,
     "user": {
      "displayName": "Pushkar Sathe",
      "userId": "10259827380981996777"
     },
     "user_tz": -330
    },
    "id": "0845732b",
    "outputId": "43dbff2b-8532-468a-f5b1-169fe792358a"
   },
   "outputs": [
    {
     "data": {
      "text/plain": [
       "int"
      ]
     },
     "execution_count": 2,
     "metadata": {},
     "output_type": "execute_result"
    }
   ],
   "source": [
    "type(x1)"
   ]
  },
  {
   "cell_type": "code",
   "execution_count": 3,
   "id": "00be3800",
   "metadata": {
    "colab": {
     "base_uri": "https://localhost:8080/"
    },
    "executionInfo": {
     "elapsed": 75,
     "status": "ok",
     "timestamp": 1758101176283,
     "user": {
      "displayName": "Pushkar Sathe",
      "userId": "10259827380981996777"
     },
     "user_tz": -330
    },
    "id": "00be3800",
    "outputId": "e6d84f85-ee56-4a01-9f2d-67029ac3bb95"
   },
   "outputs": [
    {
     "data": {
      "text/plain": [
       "12.5"
      ]
     },
     "execution_count": 3,
     "metadata": {},
     "output_type": "execute_result"
    }
   ],
   "source": [
    "x2 = 12.5\n",
    "x2"
   ]
  },
  {
   "cell_type": "code",
   "execution_count": 4,
   "id": "3b4201da",
   "metadata": {
    "colab": {
     "base_uri": "https://localhost:8080/"
    },
    "executionInfo": {
     "elapsed": 24,
     "status": "ok",
     "timestamp": 1758101179362,
     "user": {
      "displayName": "Pushkar Sathe",
      "userId": "10259827380981996777"
     },
     "user_tz": -330
    },
    "id": "3b4201da",
    "outputId": "188862f3-f111-48dd-fe1e-2ec9dd0735d4"
   },
   "outputs": [
    {
     "data": {
      "text/plain": [
       "float"
      ]
     },
     "execution_count": 4,
     "metadata": {},
     "output_type": "execute_result"
    }
   ],
   "source": [
    "type(x2)"
   ]
  },
  {
   "cell_type": "code",
   "execution_count": 5,
   "id": "d243a774",
   "metadata": {
    "colab": {
     "base_uri": "https://localhost:8080/",
     "height": 35
    },
    "executionInfo": {
     "elapsed": 58,
     "status": "ok",
     "timestamp": 1758101181558,
     "user": {
      "displayName": "Pushkar Sathe",
      "userId": "10259827380981996777"
     },
     "user_tz": -330
    },
    "id": "d243a774",
    "outputId": "fd0ae4b5-cd71-4b18-a3fb-f7bc5845d1e3"
   },
   "outputs": [
    {
     "data": {
      "text/plain": [
       "'apple'"
      ]
     },
     "execution_count": 5,
     "metadata": {},
     "output_type": "execute_result"
    }
   ],
   "source": [
    "x3 = \"apple\"\n",
    "x3"
   ]
  },
  {
   "cell_type": "code",
   "execution_count": 6,
   "id": "a31946bd",
   "metadata": {
    "colab": {
     "base_uri": "https://localhost:8080/"
    },
    "executionInfo": {
     "elapsed": 78,
     "status": "ok",
     "timestamp": 1758101184390,
     "user": {
      "displayName": "Pushkar Sathe",
      "userId": "10259827380981996777"
     },
     "user_tz": -330
    },
    "id": "a31946bd",
    "outputId": "bd88d897-7ec9-41d3-a86c-4f08afac7a11"
   },
   "outputs": [
    {
     "data": {
      "text/plain": [
       "str"
      ]
     },
     "execution_count": 6,
     "metadata": {},
     "output_type": "execute_result"
    }
   ],
   "source": [
    "type(x3)"
   ]
  },
  {
   "cell_type": "code",
   "execution_count": 7,
   "id": "dbb9bd6d",
   "metadata": {
    "colab": {
     "base_uri": "https://localhost:8080/"
    },
    "executionInfo": {
     "elapsed": 60,
     "status": "ok",
     "timestamp": 1758101187057,
     "user": {
      "displayName": "Pushkar Sathe",
      "userId": "10259827380981996777"
     },
     "user_tz": -330
    },
    "id": "dbb9bd6d",
    "outputId": "3db3fff4-fe1b-4646-8c1d-ebec0cb36310"
   },
   "outputs": [
    {
     "data": {
      "text/plain": [
       "True"
      ]
     },
     "execution_count": 7,
     "metadata": {},
     "output_type": "execute_result"
    }
   ],
   "source": [
    "x4= True\n",
    "x4"
   ]
  },
  {
   "cell_type": "code",
   "execution_count": 8,
   "id": "d5f02527",
   "metadata": {
    "colab": {
     "base_uri": "https://localhost:8080/"
    },
    "executionInfo": {
     "elapsed": 71,
     "status": "ok",
     "timestamp": 1758103825146,
     "user": {
      "displayName": "Pushkar Sathe",
      "userId": "10259827380981996777"
     },
     "user_tz": -330
    },
    "id": "d5f02527",
    "outputId": "35c48fe9-0099-4db7-8293-fe31c9bfe77c"
   },
   "outputs": [
    {
     "data": {
      "text/plain": [
       "bool"
      ]
     },
     "execution_count": 8,
     "metadata": {},
     "output_type": "execute_result"
    }
   ],
   "source": [
    "type(x4)"
   ]
  },
  {
   "cell_type": "code",
   "execution_count": null,
   "id": "c3379f31",
   "metadata": {
    "id": "c3379f31"
   },
   "outputs": [],
   "source": [
    "\"\"\"\n",
    "# Arithematic\n",
    "\n",
    "+ : Addition\n",
    "- : Deduction\n",
    "* : Multiplication\n",
    "/ : Division\n",
    "// : integer division or floor division\n",
    "% : Modulus - return remainder -> it works better when num > den\n",
    "** : power\n",
    "\"\"\"\n"
   ]
  },
  {
   "cell_type": "code",
   "execution_count": null,
   "id": "3f7c8263",
   "metadata": {
    "executionInfo": {
     "elapsed": 70,
     "status": "ok",
     "timestamp": 1758103829147,
     "user": {
      "displayName": "Pushkar Sathe",
      "userId": "10259827380981996777"
     },
     "user_tz": -330
    },
    "id": "3f7c8263"
   },
   "outputs": [],
   "source": [
    "x1 = 12\n",
    "x2 = 10"
   ]
  },
  {
   "cell_type": "code",
   "execution_count": null,
   "id": "90ad5073",
   "metadata": {
    "colab": {
     "base_uri": "https://localhost:8080/"
    },
    "executionInfo": {
     "elapsed": 53,
     "status": "ok",
     "timestamp": 1758103832173,
     "user": {
      "displayName": "Pushkar Sathe",
      "userId": "10259827380981996777"
     },
     "user_tz": -330
    },
    "id": "90ad5073",
    "outputId": "f058d03a-27e1-459b-f237-8c36fa96a87f"
   },
   "outputs": [],
   "source": [
    "print(\"Addition: \" , x1 + x2)\n",
    "print(\"subraction: \" , x1 - x2)\n",
    "print(\"multiplication: \" , x1 * x2)\n",
    "print(\"division: \" , x1 / x2)\n",
    "print(\"integer division: \" , x1 // x2)\n",
    "print(\"reminder: \" , x1 % x2)\n",
    "print(\"power value: \" , x1 ** 2)"
   ]
  },
  {
   "cell_type": "code",
   "execution_count": null,
   "id": "afab01d3",
   "metadata": {
    "id": "afab01d3"
   },
   "outputs": [],
   "source": [
    "# Comparison/Relational operators - Returns boolean values\n",
    "\"\"\"\n",
    "== : equal-to operator\n",
    "!= : Not-Equal-to operator\n",
    "> : Greater than\n",
    ">= : Greater than or equal to\n",
    "< : Less than\n",
    "<= : Less than or equal to\n",
    "\"\"\"\n"
   ]
  },
  {
   "cell_type": "code",
   "execution_count": null,
   "id": "e42d453c",
   "metadata": {
    "colab": {
     "base_uri": "https://localhost:8080/"
    },
    "executionInfo": {
     "elapsed": 62,
     "status": "ok",
     "timestamp": 1758103853518,
     "user": {
      "displayName": "Pushkar Sathe",
      "userId": "10259827380981996777"
     },
     "user_tz": -330
    },
    "id": "e42d453c",
    "outputId": "4efedbba-31e3-4cd4-f8f6-0f05616bea1e"
   },
   "outputs": [],
   "source": [
    "x2"
   ]
  },
  {
   "cell_type": "code",
   "execution_count": null,
   "id": "cecec126",
   "metadata": {
    "colab": {
     "base_uri": "https://localhost:8080/"
    },
    "executionInfo": {
     "elapsed": 64,
     "status": "ok",
     "timestamp": 1758103855197,
     "user": {
      "displayName": "Pushkar Sathe",
      "userId": "10259827380981996777"
     },
     "user_tz": -330
    },
    "id": "cecec126",
    "outputId": "bffc33c0-678d-4e2c-ae23-d53535e0c87f"
   },
   "outputs": [],
   "source": [
    "x1 == x2"
   ]
  },
  {
   "cell_type": "code",
   "execution_count": null,
   "id": "9b61c3d2",
   "metadata": {
    "colab": {
     "base_uri": "https://localhost:8080/"
    },
    "executionInfo": {
     "elapsed": 86,
     "status": "ok",
     "timestamp": 1758103858477,
     "user": {
      "displayName": "Pushkar Sathe",
      "userId": "10259827380981996777"
     },
     "user_tz": -330
    },
    "id": "9b61c3d2",
    "outputId": "bb20043c-bcb0-4fae-f2ba-b9cf6a16fe9b"
   },
   "outputs": [],
   "source": [
    "x1 != x2"
   ]
  },
  {
   "cell_type": "code",
   "execution_count": null,
   "id": "522fbd57",
   "metadata": {
    "colab": {
     "base_uri": "https://localhost:8080/"
    },
    "executionInfo": {
     "elapsed": 33,
     "status": "ok",
     "timestamp": 1758103860546,
     "user": {
      "displayName": "Pushkar Sathe",
      "userId": "10259827380981996777"
     },
     "user_tz": -330
    },
    "id": "522fbd57",
    "outputId": "e74c8fb4-9308-409a-fbe7-87cfc297caf6"
   },
   "outputs": [],
   "source": [
    "x1 > x2"
   ]
  },
  {
   "cell_type": "code",
   "execution_count": null,
   "id": "795e89f8",
   "metadata": {
    "colab": {
     "base_uri": "https://localhost:8080/"
    },
    "executionInfo": {
     "elapsed": 21,
     "status": "ok",
     "timestamp": 1758103862119,
     "user": {
      "displayName": "Pushkar Sathe",
      "userId": "10259827380981996777"
     },
     "user_tz": -330
    },
    "id": "795e89f8",
    "outputId": "3b6e6cca-0480-46c8-9652-236f8373771c"
   },
   "outputs": [],
   "source": [
    "x1 < x2"
   ]
  },
  {
   "cell_type": "code",
   "execution_count": null,
   "id": "3b5d9da2",
   "metadata": {
    "id": "3b5d9da2"
   },
   "outputs": [],
   "source": [
    "\"\"\"\n",
    "# Logical Operators - used along with relational expressions\n",
    "\n",
    "and : returns True if both operands are True\n",
    "or  : returns True if any one of the operands are True\n",
    "not : opposite of the logical operator\n",
    "\"\"\"\n"
   ]
  },
  {
   "cell_type": "code",
   "execution_count": null,
   "id": "9e810879",
   "metadata": {
    "executionInfo": {
     "elapsed": 10,
     "status": "ok",
     "timestamp": 1758103876451,
     "user": {
      "displayName": "Pushkar Sathe",
      "userId": "10259827380981996777"
     },
     "user_tz": -330
    },
    "id": "9e810879"
   },
   "outputs": [],
   "source": [
    "username = 'xyz'\n",
    "pwd = 1233\n",
    "otp = 4578"
   ]
  },
  {
   "cell_type": "code",
   "execution_count": null,
   "id": "af7d4ed3",
   "metadata": {
    "colab": {
     "base_uri": "https://localhost:8080/"
    },
    "executionInfo": {
     "elapsed": 78,
     "status": "ok",
     "timestamp": 1758103881470,
     "user": {
      "displayName": "Pushkar Sathe",
      "userId": "10259827380981996777"
     },
     "user_tz": -330
    },
    "id": "af7d4ed3",
    "outputId": "7ec840f1-c34d-4b8f-a948-e6cdcefeeb93"
   },
   "outputs": [],
   "source": [
    "username == 'xyz' and (pwd == 1234 or otp==4578)"
   ]
  },
  {
   "cell_type": "code",
   "execution_count": null,
   "id": "b3164051",
   "metadata": {
    "colab": {
     "base_uri": "https://localhost:8080/"
    },
    "executionInfo": {
     "elapsed": 94,
     "status": "ok",
     "timestamp": 1758103885526,
     "user": {
      "displayName": "Pushkar Sathe",
      "userId": "10259827380981996777"
     },
     "user_tz": -330
    },
    "id": "b3164051",
    "outputId": "85f243ad-8fb2-43c2-b41c-f50ae99b727f"
   },
   "outputs": [],
   "source": [
    "age = 21\n",
    "age >= 18\n"
   ]
  },
  {
   "cell_type": "code",
   "execution_count": null,
   "id": "9eeafaf4",
   "metadata": {
    "colab": {
     "base_uri": "https://localhost:8080/"
    },
    "executionInfo": {
     "elapsed": 56,
     "status": "ok",
     "timestamp": 1758103888473,
     "user": {
      "displayName": "Pushkar Sathe",
      "userId": "10259827380981996777"
     },
     "user_tz": -330
    },
    "id": "9eeafaf4",
    "outputId": "98404c17-aee3-47f9-96f9-47e358653864"
   },
   "outputs": [],
   "source": [
    "not(age < 18)"
   ]
  },
  {
   "cell_type": "code",
   "execution_count": null,
   "id": "fec9e74e",
   "metadata": {
    "id": "fec9e74e"
   },
   "outputs": [],
   "source": [
    "'''\n",
    "# Assignment operators\n",
    "\n",
    "=                     --> c = a + b\n",
    "+= Add AND            --> c = c + a\n",
    "-= Subtract AND       --> c = c - a\n",
    "*= Multiply AND       --> c = c * a\n",
    "/= Divide AND         --> c = c / a\n",
    "%= Modulus AND        --> c = c % a\n",
    "**= Exponent AND      --> c = c ** a\n",
    "//= Floor Division    --> c = c // a\n",
    "\n",
    "'''\n"
   ]
  },
  {
   "cell_type": "code",
   "execution_count": null,
   "id": "80658bd4",
   "metadata": {
    "executionInfo": {
     "elapsed": 54,
     "status": "ok",
     "timestamp": 1758103893514,
     "user": {
      "displayName": "Pushkar Sathe",
      "userId": "10259827380981996777"
     },
     "user_tz": -330
    },
    "id": "80658bd4"
   },
   "outputs": [],
   "source": [
    "x1 = 10"
   ]
  },
  {
   "cell_type": "code",
   "execution_count": null,
   "id": "769a3be2",
   "metadata": {
    "colab": {
     "base_uri": "https://localhost:8080/"
    },
    "executionInfo": {
     "elapsed": 87,
     "status": "ok",
     "timestamp": 1758103895381,
     "user": {
      "displayName": "Pushkar Sathe",
      "userId": "10259827380981996777"
     },
     "user_tz": -330
    },
    "id": "769a3be2",
    "outputId": "6edc4923-18ad-45ca-f29c-22dfaa11a9bb"
   },
   "outputs": [],
   "source": [
    "i = 0\n",
    "i"
   ]
  },
  {
   "cell_type": "code",
   "execution_count": null,
   "id": "a1dd3d4c",
   "metadata": {
    "colab": {
     "base_uri": "https://localhost:8080/"
    },
    "executionInfo": {
     "elapsed": 95,
     "status": "ok",
     "timestamp": 1758103897989,
     "user": {
      "displayName": "Pushkar Sathe",
      "userId": "10259827380981996777"
     },
     "user_tz": -330
    },
    "id": "a1dd3d4c",
    "outputId": "0287a593-29b7-4610-d108-003ca252799b"
   },
   "outputs": [],
   "source": [
    "i = i + 1\n",
    "i"
   ]
  },
  {
   "cell_type": "code",
   "execution_count": null,
   "id": "4077d504",
   "metadata": {
    "colab": {
     "base_uri": "https://localhost:8080/"
    },
    "executionInfo": {
     "elapsed": 84,
     "status": "ok",
     "timestamp": 1758103899725,
     "user": {
      "displayName": "Pushkar Sathe",
      "userId": "10259827380981996777"
     },
     "user_tz": -330
    },
    "id": "4077d504",
    "outputId": "dbb2f8d3-7044-4bb0-d78c-ac77ab76c68f"
   },
   "outputs": [],
   "source": [
    "balance = 1000\n",
    "balance"
   ]
  },
  {
   "cell_type": "code",
   "execution_count": null,
   "id": "6100ea84",
   "metadata": {
    "executionInfo": {
     "elapsed": 22,
     "status": "ok",
     "timestamp": 1758103901902,
     "user": {
      "displayName": "Pushkar Sathe",
      "userId": "10259827380981996777"
     },
     "user_tz": -330
    },
    "id": "6100ea84"
   },
   "outputs": [],
   "source": [
    "deposit = 100"
   ]
  },
  {
   "cell_type": "code",
   "execution_count": null,
   "id": "602ce9dc",
   "metadata": {
    "colab": {
     "base_uri": "https://localhost:8080/"
    },
    "executionInfo": {
     "elapsed": 70,
     "status": "ok",
     "timestamp": 1758103903606,
     "user": {
      "displayName": "Pushkar Sathe",
      "userId": "10259827380981996777"
     },
     "user_tz": -330
    },
    "id": "602ce9dc",
    "outputId": "f3c2fda9-11e7-411f-f883-ef04a1bc5731"
   },
   "outputs": [],
   "source": [
    "balance = balance + deposit\n",
    "balance"
   ]
  },
  {
   "cell_type": "code",
   "execution_count": null,
   "id": "6bd12c8f",
   "metadata": {
    "executionInfo": {
     "elapsed": 21,
     "status": "ok",
     "timestamp": 1758103906563,
     "user": {
      "displayName": "Pushkar Sathe",
      "userId": "10259827380981996777"
     },
     "user_tz": -330
    },
    "id": "6bd12c8f"
   },
   "outputs": [],
   "source": [
    "witdrawn = 50"
   ]
  },
  {
   "cell_type": "code",
   "execution_count": null,
   "id": "2a0da34d",
   "metadata": {
    "colab": {
     "base_uri": "https://localhost:8080/"
    },
    "executionInfo": {
     "elapsed": 85,
     "status": "ok",
     "timestamp": 1758103909022,
     "user": {
      "displayName": "Pushkar Sathe",
      "userId": "10259827380981996777"
     },
     "user_tz": -330
    },
    "id": "2a0da34d",
    "outputId": "b38b2300-c97d-43d6-951d-668598e44fda"
   },
   "outputs": [],
   "source": [
    "balance = balance - witdrawn\n",
    "balance"
   ]
  },
  {
   "cell_type": "code",
   "execution_count": null,
   "id": "39df1cd7",
   "metadata": {
    "id": "39df1cd7"
   },
   "outputs": [],
   "source": [
    "balance -= witdrawn\n",
    "balance"
   ]
  },
  {
   "cell_type": "code",
   "execution_count": null,
   "id": "05a54b83-16fc-4863-ba52-d0d60f77467c",
   "metadata": {},
   "outputs": [],
   "source": []
  }
 ],
 "metadata": {
  "colab": {
   "provenance": []
  },
  "kernelspec": {
   "display_name": "Python 3 (ipykernel)",
   "language": "python",
   "name": "python3"
  },
  "language_info": {
   "codemirror_mode": {
    "name": "ipython",
    "version": 3
   },
   "file_extension": ".py",
   "mimetype": "text/x-python",
   "name": "python",
   "nbconvert_exporter": "python",
   "pygments_lexer": "ipython3",
   "version": "3.13.5"
  }
 },
 "nbformat": 4,
 "nbformat_minor": 5
}
