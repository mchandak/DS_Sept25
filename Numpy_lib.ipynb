{
 "cells": [
  {
   "cell_type": "code",
   "execution_count": null,
   "id": "5f631492-71a7-4fe5-9c5b-95e66ac6a569",
   "metadata": {},
   "outputs": [],
   "source": [
    "import numpy as np "
   ]
  },
  {
   "cell_type": "code",
   "execution_count": null,
   "id": "60e64201-9fa8-4943-b37f-721a163f6b9e",
   "metadata": {},
   "outputs": [],
   "source": [
    "#Scalar is single number\n",
    "scalar = np.array(5)\n",
    "print(scalar)        "
   ]
  },
  {
   "cell_type": "code",
   "execution_count": null,
   "id": "893c93aa-ff07-4786-8fc5-0606897f818a",
   "metadata": {},
   "outputs": [],
   "source": [
    "#Array Creating  - Vector\n",
    "arr1 = np.array([10,20,30])\n",
    "print(arr1)"
   ]
  },
  {
   "cell_type": "code",
   "execution_count": null,
   "id": "5b11d9fa-8a41-4511-bb01-8acecc984e59",
   "metadata": {},
   "outputs": [],
   "source": [
    "lst1=[10,20,30]\n",
    "arr11 = np.array(lst1)\n",
    "print(arr11)"
   ]
  },
  {
   "cell_type": "code",
   "execution_count": null,
   "id": "2e3c1411-5d6e-4d16-abd6-00ac556d65b8",
   "metadata": {},
   "outputs": [],
   "source": [
    "# Arithmetic & Mathematical\n",
    "print(arr1.size)\n",
    "print(np.sum(arr1))\n",
    "print(np.mean(arr1))\n",
    "print(arr1.mean())"
   ]
  },
  {
   "cell_type": "code",
   "execution_count": null,
   "id": "7570400b-22e3-43f9-9881-d490acda02b9",
   "metadata": {},
   "outputs": [],
   "source": [
    "arr11 = np.array([1,5,6])\n",
    "arr22= np.array([4,2,6])\n",
    "arr11*arr22"
   ]
  },
  {
   "cell_type": "code",
   "execution_count": null,
   "id": "7040ba9b-fbb8-4946-baac-0dbdb141fc31",
   "metadata": {},
   "outputs": [],
   "source": [
    "# Array indexing\n",
    "arr1 = np.array([1,2,3,4,5])\n",
    "arr1[1]"
   ]
  },
  {
   "cell_type": "code",
   "execution_count": null,
   "id": "d9145590-f587-48ed-a276-8c19276369c7",
   "metadata": {},
   "outputs": [],
   "source": [
    "arr1[1:4]"
   ]
  },
  {
   "cell_type": "code",
   "execution_count": null,
   "id": "90125a3e-5211-4c90-a554-199d856f7a9f",
   "metadata": {},
   "outputs": [],
   "source": [
    "arr1=np.append(arr1,7)\n",
    "arr1[2]=4\n",
    "arr1"
   ]
  },
  {
   "cell_type": "code",
   "execution_count": null,
   "id": "1f2adf73-196a-467a-90e2-e359102b345d",
   "metadata": {},
   "outputs": [],
   "source": [
    "arr2 = np.array([1,2,3,4,5])\n",
    "np.delete(arr2,2)"
   ]
  },
  {
   "cell_type": "code",
   "execution_count": null,
   "id": "bc6e7a18-0f2e-41bc-8aee-890de81468ef",
   "metadata": {},
   "outputs": [],
   "source": [
    "#2D array or matrix\n",
    "arr2 = np.array([[1, 2,3], [4, 5,6]])\n",
    "arr2\n"
   ]
  },
  {
   "cell_type": "code",
   "execution_count": null,
   "id": "639316e9-cb4b-4a95-aaad-d71495aa23b9",
   "metadata": {},
   "outputs": [],
   "source": [
    "arr2.ndim"
   ]
  },
  {
   "cell_type": "code",
   "execution_count": null,
   "id": "affe4b20-028c-404e-b693-94fadff9970f",
   "metadata": {},
   "outputs": [],
   "source": [
    "arr2.size"
   ]
  },
  {
   "cell_type": "code",
   "execution_count": null,
   "id": "fb6c4492-a885-4461-91bc-1054d26396f5",
   "metadata": {},
   "outputs": [],
   "source": [
    "arr2.shape"
   ]
  },
  {
   "cell_type": "code",
   "execution_count": null,
   "id": "8ef45583-5566-4e50-83dd-1c222adbc0ae",
   "metadata": {},
   "outputs": [],
   "source": [
    "np.sum(arr2)"
   ]
  },
  {
   "cell_type": "code",
   "execution_count": null,
   "id": "6d64648f-9a4f-40c4-ad4f-450d0919c9f9",
   "metadata": {},
   "outputs": [],
   "source": [
    "np.sum(arr2,axis= 0)"
   ]
  },
  {
   "cell_type": "code",
   "execution_count": null,
   "id": "d68b169f-27f3-4887-9237-c0f00db9ac5b",
   "metadata": {},
   "outputs": [],
   "source": [
    "np.sum(arr2,axis= 1)"
   ]
  },
  {
   "cell_type": "code",
   "execution_count": null,
   "id": "ba5a37f1-7c3f-43bc-9da8-4d13106a5b0d",
   "metadata": {},
   "outputs": [],
   "source": [
    "#Random Integers\n",
    "random_array = np.random.randint(0, 10, size=(3, 2))\n",
    "print(random_array)"
   ]
  },
  {
   "cell_type": "code",
   "execution_count": null,
   "id": "5d08ea43-745f-4ac0-80a6-e628f81e7e70",
   "metadata": {},
   "outputs": [],
   "source": [
    "#Convert 2D NumPy Array to Pandas DataFrame\n",
    "import pandas as pd\n",
    "data = np.array([[10, 20], [30, 40]])\n",
    "df = pd.DataFrame(data)\n",
    "print(df)"
   ]
  },
  {
   "cell_type": "code",
   "execution_count": null,
   "id": "dc511765-a77d-4bd6-bf21-48e1bde6bfa6",
   "metadata": {},
   "outputs": [],
   "source": [
    "#Give Column Names in DataFrame\n",
    "df_named = pd.DataFrame(data, columns=['Column1', 'Column2'])\n",
    "print(df_named)"
   ]
  },
  {
   "cell_type": "code",
   "execution_count": null,
   "id": "30f9c436-b5cc-4736-99a4-e93ba5269f79",
   "metadata": {},
   "outputs": [],
   "source": []
  }
 ],
 "metadata": {
  "kernelspec": {
   "display_name": "Python 3 (ipykernel)",
   "language": "python",
   "name": "python3"
  },
  "language_info": {
   "codemirror_mode": {
    "name": "ipython",
    "version": 3
   },
   "file_extension": ".py",
   "mimetype": "text/x-python",
   "name": "python",
   "nbconvert_exporter": "python",
   "pygments_lexer": "ipython3",
   "version": "3.13.5"
  }
 },
 "nbformat": 4,
 "nbformat_minor": 5
}
